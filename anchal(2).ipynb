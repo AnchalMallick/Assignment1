{
  "nbformat": 4,
  "nbformat_minor": 0,
  "metadata": {
    "colab": {
      "name": "anchal.ipynb",
      "provenance": []
    },
    "kernelspec": {
      "name": "python3",
      "display_name": "Python 3"
    }
  },
  "cells": [
    {
      "cell_type": "code",
      "metadata": {
        "id": "TdvVIhAc9YF7"
      },
      "source": [
        "import tensorflow as tf\n",
        "from matplotlib import pyplot\n",
        "import keras\n",
        "import keras.utils\n",
        "from keras.utils import to_categorical\n",
        "from keras.models import Sequential\n",
        "from keras.layers import Dense\n",
        "from keras.optimizers import Nadam"
      ],
      "execution_count": 1,
      "outputs": []
    },
    {
      "cell_type": "code",
      "metadata": {
        "colab": {
          "base_uri": "https://localhost:8080/"
        },
        "id": "2eKAcY-pAUHd",
        "outputId": "dac540d4-eed2-48e0-bf75-79163855f435"
      },
      "source": [
        "#fetching CIFAR10 dataset\n",
        "(X_train,Y_train),(X_test,Y_test) = tf.keras.datasets.cifar10.load_data()\n",
        "#converting to one hot encodings\n",
        "Y_train,Y_test = to_categorical(Y_train),to_categorical(Y_test)\n",
        "#converting into 2D matrix of the dimensional form (m,n) where m = no. of examples and n = no. of features      \n",
        "X_train,X_test = X_train.reshape((X_train.shape[0],X_train.shape[1]*X_train.shape[2]*X_train.shape[3])),X_test.reshape((X_test.shape[0],X_test.shape[1]*X_test.shape[2]*X_test.shape[3]))\n",
        "#normalizing train and test images\n",
        "X_train,X_test = X_train.astype('float32')/255.0,X_test.astype('float32')/255.0\n",
        "#printing initial relevant information \n",
        "print('Total no. of training examples =',X_train.shape[0])\n",
        "print('Total no. of test examples =',X_test.shape[0])\n",
        "print('Total no. of classes/labels/categories =',Y_train.shape[1])\n",
        "print('Final dimensions of X_train =',X_train.shape)\n",
        "print('Final dimensions of Y_train =',Y_train.shape)\n",
        "print('Final dimensions of X_test =',X_test.shape)\n",
        "print('Final dimensions of Y_test =',Y_test.shape)"
      ],
      "execution_count": 2,
      "outputs": [
        {
          "output_type": "stream",
          "text": [
            "Downloading data from https://www.cs.toronto.edu/~kriz/cifar-10-python.tar.gz\n",
            "170500096/170498071 [==============================] - 11s 0us/step\n",
            "Total no. of training examples = 50000\n",
            "Total no. of test examples = 10000\n",
            "Total no. of classes/labels/categories = 10\n",
            "Final dimensions of X_train = (50000, 3072)\n",
            "Final dimensions of Y_train = (50000, 10)\n",
            "Final dimensions of X_test = (10000, 3072)\n",
            "Final dimensions of Y_test = (10000, 10)\n"
          ],
          "name": "stdout"
        }
      ]
    },
    {
      "cell_type": "code",
      "metadata": {
        "id": "r8eKmUU4LHCb"
      },
      "source": [
        "def dnn_model1():\n",
        "  model = Sequential()\n",
        "  model.add(Dense(100, input_dim=X_train.shape[1], activation='elu', kernel_initializer='he_uniform'))  #hidden layer1       he random initialization for our weights \n",
        "  model.add(Dense(100, activation='elu', kernel_initializer='he_uniform'))  #hidden layer2\n",
        "  model.add(Dense(100, activation='elu', kernel_initializer='he_uniform'))  #hidden layer3\n",
        "  model.add(Dense(100, activation='elu', kernel_initializer='he_uniform'))  #hidden layer4\n",
        "  model.add(Dense(100, activation='elu', kernel_initializer='he_uniform'))  #hidden layer5\n",
        "  model.add(Dense(100, activation='elu', kernel_initializer='he_uniform'))  #hidden layer6\n",
        "  model.add(Dense(100, activation='elu', kernel_initializer='he_uniform'))  #hidden layer7\n",
        "  model.add(Dense(100, activation='elu', kernel_initializer='he_uniform'))  #hidden layer8\n",
        "  model.add(Dense(100, activation='elu', kernel_initializer='he_uniform'))  #hidden layer9\n",
        "  model.add(Dense(100, activation='elu', kernel_initializer='he_uniform'))  #hidden layer10\n",
        "  model.add(Dense(100, activation='elu', kernel_initializer='he_uniform'))  #hidden layer11\n",
        "  model.add(Dense(100, activation='elu', kernel_initializer='he_uniform'))  #hidden layer12\n",
        "  model.add(Dense(100, activation='elu', kernel_initializer='he_uniform'))  #hidden layer13\n",
        "  model.add(Dense(100, activation='elu', kernel_initializer='he_uniform'))  #hidden layer14\n",
        "  model.add(Dense(100, activation='elu', kernel_initializer='he_uniform'))  #hidden layer15\n",
        "  model.add(Dense(100, activation='elu', kernel_initializer='he_uniform'))  #hidden layer16\n",
        "  model.add(Dense(100, activation='elu', kernel_initializer='he_uniform'))  #hidden layer17\n",
        "  model.add(Dense(100, activation='elu', kernel_initializer='he_uniform'))  #hidden layer18\n",
        "  model.add(Dense(100, activation='elu', kernel_initializer='he_uniform'))  #hidden layer19\n",
        "  model.add(Dense(100, activation='elu', kernel_initializer='he_uniform'))  #hidden layer20\n",
        "  model.add(Dense(Y_train.shape[1], activation='softmax'))   #output layer \n",
        "  Opt = Nadam(learning_rate=0.001, beta_1=0.9, beta_2=0.99, epsilon=1e-07, name='Nadam')\n",
        "  model.compile(optimizer=Opt, loss='categorical_crossentropy', metrics=['accuracy'])\n",
        "  return model\n",
        "    "
      ],
      "execution_count": 8,
      "outputs": []
    },
    {
      "cell_type": "code",
      "metadata": {
        "id": "9rQBuYLgQVj_"
      },
      "source": [
        "def plot_learning_curves(history):\n",
        "#plotting learning curves \n",
        "  #plot accuracy for train and test sets\n",
        "  pyplot.subplot(211)\n",
        "  pyplot.title('Accuracy')\n",
        "  pyplot.plot(history.history['accuracy'], color='blue', label='training_set')\n",
        "  pyplot.plot(history.history['val_accuracy'], color='red', label='test set')\n",
        "  #plot cross entropy loss for train and test sets\n",
        "  pyplot.subplot(212)\n",
        "  pyplot.title('Cross Entropy Loss')\n",
        "  pyplot.plot(history.history['loss'], color='blue', label='training_set')\n",
        "  pyplot.plot(history.history['val_loss'], color='red', label='test set')\n"
      ],
      "execution_count": 9,
      "outputs": []
    },
    {
      "cell_type": "code",
      "metadata": {
        "id": "qpTFN2XzTxd0"
      },
      "source": [
        "def scenario_1():\n",
        "  #defining model\n",
        "  model = dnn_model1()\n",
        "  #fitting model\n",
        "  history = model.fit(X_train, Y_train, epochs=1000, batch_size=128, validation_data=(X_test, Y_test), verbose=0)\n",
        "  #evaluating model\n",
        "  _, accuracy = model.evaluate(X_test, Y_test, verbose=0)\n",
        "  print('accuracy =',accuracy)\n",
        "  #plotting learning curves\n",
        "  plot_learning_curves(history)"
      ],
      "execution_count": 10,
      "outputs": []
    },
    {
      "cell_type": "code",
      "metadata": {
        "colab": {
          "base_uri": "https://localhost:8080/",
          "height": 298
        },
        "id": "EyvjK7h3WIJv",
        "outputId": "a9a5b67d-ad64-4264-cccf-5168e0fe45b0"
      },
      "source": [
        "scenario_1()  "
      ],
      "execution_count": 11,
      "outputs": [
        {
          "output_type": "stream",
          "text": [
            "accuracy = 0.49140000343322754\n"
          ],
          "name": "stdout"
        },
        {
          "output_type": "display_data",
          "data": {
            "image/png": "[encoded data removed]",
            "text/plain": [
              "<Figure size 432x288 with 2 Axes>"
            ]
          },
          "metadata": {
            "tags": [],
            "needs_background": "light"
          }
        }
      ]
    },
    {
      "cell_type": "code",
      "metadata": {
        "id": "5pt4k5HGsps4"
      },
      "source": [
        ""
      ],
      "execution_count": null,
      "outputs": []
    }
  ]
}